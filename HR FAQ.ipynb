{
 "cells": [
  {
   "cell_type": "code",
   "execution_count": 1,
   "metadata": {},
   "outputs": [],
   "source": [
    "import pandas as pd\n",
    "import numpy as np\n",
    "import re\n",
    "import pickle\n",
    "import random\n",
    "import torch\n",
    "\n",
    "from sentence_transformers import SentenceTransformer, util\n",
    "from sklearn.metrics.pairwise import cosine_similarity"
   ]
  },
  {
   "cell_type": "markdown",
   "metadata": {},
   "source": [
    "### Knowledge Base: Data Pre-processing"
   ]
  },
  {
   "cell_type": "code",
   "execution_count": 2,
   "metadata": {},
   "outputs": [],
   "source": [
    "df = pd.read_csv('HR FAQ Knowledge Base Sample.csv')"
   ]
  },
  {
   "cell_type": "code",
   "execution_count": 3,
   "metadata": {},
   "outputs": [
    {
     "data": {
      "text/html": [
       "<div>\n",
       "<style scoped>\n",
       "    .dataframe tbody tr th:only-of-type {\n",
       "        vertical-align: middle;\n",
       "    }\n",
       "\n",
       "    .dataframe tbody tr th {\n",
       "        vertical-align: top;\n",
       "    }\n",
       "\n",
       "    .dataframe thead th {\n",
       "        text-align: right;\n",
       "    }\n",
       "</style>\n",
       "<table border=\"1\" class=\"dataframe\">\n",
       "  <thead>\n",
       "    <tr style=\"text-align: right;\">\n",
       "      <th></th>\n",
       "      <th>question</th>\n",
       "      <th>answer</th>\n",
       "    </tr>\n",
       "  </thead>\n",
       "  <tbody>\n",
       "    <tr>\n",
       "      <th>0</th>\n",
       "      <td>How many days of medical leave do I have?</td>\n",
       "      <td>All staff are entitled to 14 days of medical l...</td>\n",
       "    </tr>\n",
       "    <tr>\n",
       "      <th>1</th>\n",
       "      <td>How many days of medical leave can I apply?</td>\n",
       "      <td>All staff are entitled to 14 days of medical l...</td>\n",
       "    </tr>\n",
       "    <tr>\n",
       "      <th>2</th>\n",
       "      <td>Is there a limit to the number of medical leav...</td>\n",
       "      <td>All staff are entitled to 14 days of medical l...</td>\n",
       "    </tr>\n",
       "    <tr>\n",
       "      <th>3</th>\n",
       "      <td>Can I claim medical expenses from a TCM doctor?</td>\n",
       "      <td>Please note that Traditional Chinese Medicine ...</td>\n",
       "    </tr>\n",
       "    <tr>\n",
       "      <th>4</th>\n",
       "      <td>I visited TCM doctor recently. Can medical fee...</td>\n",
       "      <td>Please note that Traditional Chinese Medicine ...</td>\n",
       "    </tr>\n",
       "  </tbody>\n",
       "</table>\n",
       "</div>"
      ],
      "text/plain": [
       "                                            question  \\\n",
       "0          How many days of medical leave do I have?   \n",
       "1        How many days of medical leave can I apply?   \n",
       "2  Is there a limit to the number of medical leav...   \n",
       "3   Can I claim medical expenses from a TCM doctor?    \n",
       "4  I visited TCM doctor recently. Can medical fee...   \n",
       "\n",
       "                                              answer  \n",
       "0  All staff are entitled to 14 days of medical l...  \n",
       "1  All staff are entitled to 14 days of medical l...  \n",
       "2  All staff are entitled to 14 days of medical l...  \n",
       "3  Please note that Traditional Chinese Medicine ...  \n",
       "4  Please note that Traditional Chinese Medicine ...  "
      ]
     },
     "execution_count": 3,
     "metadata": {},
     "output_type": "execute_result"
    }
   ],
   "source": [
    "df.head()"
   ]
  },
  {
   "cell_type": "code",
   "execution_count": 4,
   "metadata": {},
   "outputs": [],
   "source": [
    "# Normalise the question to lower case and remove special characters\n",
    "df['question2'] = df['question'].str.lower().apply(lambda x: re.sub(r'[^A-Za-z0-9\\s]', ' ', x)) "
   ]
  },
  {
   "cell_type": "code",
   "execution_count": 5,
   "metadata": {},
   "outputs": [
    {
     "data": {
      "text/html": [
       "<div>\n",
       "<style scoped>\n",
       "    .dataframe tbody tr th:only-of-type {\n",
       "        vertical-align: middle;\n",
       "    }\n",
       "\n",
       "    .dataframe tbody tr th {\n",
       "        vertical-align: top;\n",
       "    }\n",
       "\n",
       "    .dataframe thead th {\n",
       "        text-align: right;\n",
       "    }\n",
       "</style>\n",
       "<table border=\"1\" class=\"dataframe\">\n",
       "  <thead>\n",
       "    <tr style=\"text-align: right;\">\n",
       "      <th></th>\n",
       "      <th>question</th>\n",
       "      <th>answer</th>\n",
       "      <th>question2</th>\n",
       "    </tr>\n",
       "  </thead>\n",
       "  <tbody>\n",
       "    <tr>\n",
       "      <th>0</th>\n",
       "      <td>How many days of medical leave do I have?</td>\n",
       "      <td>All staff are entitled to 14 days of medical l...</td>\n",
       "      <td>how many days of medical leave do i have</td>\n",
       "    </tr>\n",
       "    <tr>\n",
       "      <th>1</th>\n",
       "      <td>How many days of medical leave can I apply?</td>\n",
       "      <td>All staff are entitled to 14 days of medical l...</td>\n",
       "      <td>how many days of medical leave can i apply</td>\n",
       "    </tr>\n",
       "    <tr>\n",
       "      <th>2</th>\n",
       "      <td>Is there a limit to the number of medical leav...</td>\n",
       "      <td>All staff are entitled to 14 days of medical l...</td>\n",
       "      <td>is there a limit to the number of medical leav...</td>\n",
       "    </tr>\n",
       "    <tr>\n",
       "      <th>3</th>\n",
       "      <td>Can I claim medical expenses from a TCM doctor?</td>\n",
       "      <td>Please note that Traditional Chinese Medicine ...</td>\n",
       "      <td>can i claim medical expenses from a tcm doctor</td>\n",
       "    </tr>\n",
       "    <tr>\n",
       "      <th>4</th>\n",
       "      <td>I visited TCM doctor recently. Can medical fee...</td>\n",
       "      <td>Please note that Traditional Chinese Medicine ...</td>\n",
       "      <td>i visited tcm doctor recently  can medical fee...</td>\n",
       "    </tr>\n",
       "  </tbody>\n",
       "</table>\n",
       "</div>"
      ],
      "text/plain": [
       "                                            question  \\\n",
       "0          How many days of medical leave do I have?   \n",
       "1        How many days of medical leave can I apply?   \n",
       "2  Is there a limit to the number of medical leav...   \n",
       "3   Can I claim medical expenses from a TCM doctor?    \n",
       "4  I visited TCM doctor recently. Can medical fee...   \n",
       "\n",
       "                                              answer  \\\n",
       "0  All staff are entitled to 14 days of medical l...   \n",
       "1  All staff are entitled to 14 days of medical l...   \n",
       "2  All staff are entitled to 14 days of medical l...   \n",
       "3  Please note that Traditional Chinese Medicine ...   \n",
       "4  Please note that Traditional Chinese Medicine ...   \n",
       "\n",
       "                                           question2  \n",
       "0          how many days of medical leave do i have   \n",
       "1        how many days of medical leave can i apply   \n",
       "2  is there a limit to the number of medical leav...  \n",
       "3   can i claim medical expenses from a tcm doctor    \n",
       "4  i visited tcm doctor recently  can medical fee...  "
      ]
     },
     "execution_count": 5,
     "metadata": {},
     "output_type": "execute_result"
    }
   ],
   "source": [
    "df.head()"
   ]
  },
  {
   "cell_type": "code",
   "execution_count": 6,
   "metadata": {},
   "outputs": [],
   "source": [
    "# Export processed knowledge base\n",
    "df.to_csv('cleaned_df.csv', index=False)"
   ]
  },
  {
   "cell_type": "markdown",
   "metadata": {},
   "source": [
    "### Model Development: Distilroberta"
   ]
  },
  {
   "cell_type": "code",
   "execution_count": 7,
   "metadata": {},
   "outputs": [
    {
     "name": "stderr",
     "output_type": "stream",
     "text": [
      "You try to use a model that was created with version 1.1.0, however, your version is 0.4.1. This might cause unexpected behavior or errors. In that case, try to update to the latest version.\n",
      "\n",
      "\n",
      "\n"
     ]
    }
   ],
   "source": [
    "# Initiate model\n",
    "model = SentenceTransformer('stsb-distilroberta-base-v2')"
   ]
  },
  {
   "cell_type": "code",
   "execution_count": 8,
   "metadata": {},
   "outputs": [],
   "source": [
    "# Encode the questions to get embeddings\n",
    "qn_embeddings = model.encode(df['question2'].to_list(), convert_to_tensor=True)"
   ]
  },
  {
   "cell_type": "code",
   "execution_count": 9,
   "metadata": {},
   "outputs": [],
   "source": [
    "# Extract the word embeddings into pickle\n",
    "pickle.dump(qn_embeddings, open('distilroberta-embedding.pkl', 'wb'))"
   ]
  },
  {
   "cell_type": "code",
   "execution_count": 12,
   "metadata": {},
   "outputs": [],
   "source": [
    "def hr_response(req):\n",
    "       \n",
    "    # Pre-processing\n",
    "    req = re.sub(r'[^A-Za-z0-9\\s]', ' ', req.lower())\n",
    "    \n",
    "    # Encode the text to get embeddings\n",
    "    model = SentenceTransformer('stsb-distilroberta-base-v2')\n",
    "    req_embeddings = model.encode(req).reshape(1, -1)\n",
    "\n",
    "    # Compute similarity\n",
    "    qn_embeddings = pickle.load(open('distilroberta-embedding.pkl', 'rb'))\n",
    "    cosine_sim = cosine_similarity(qn_embeddings, req_embeddings) \n",
    "    cosine_sim = [(idx, item) for idx,item in enumerate(cosine_sim)]\n",
    "    sim_scores = sorted(cosine_sim, key=lambda x: x[1], reverse=True) \n",
    "    \n",
    "    # Return response of the top most similar question\n",
    "    top_score = sim_scores[0]\n",
    "    qn_indice = top_score[0]\n",
    "    \n",
    "    df = pd.read_csv('cleaned_df.csv')\n",
    "    return df['answer'].iloc[qn_indice]"
   ]
  },
  {
   "cell_type": "code",
   "execution_count": 13,
   "metadata": {},
   "outputs": [
    {
     "name": "stderr",
     "output_type": "stream",
     "text": [
      "You try to use a model that was created with version 1.1.0, however, your version is 0.4.1. This might cause unexpected behavior or errors. In that case, try to update to the latest version.\n",
      "\n",
      "\n",
      "\n"
     ]
    },
    {
     "data": {
      "text/plain": [
       "'Please note that Traditional Chinese Medicine (TCM) treatments are NOT claimable. '"
      ]
     },
     "execution_count": 13,
     "metadata": {},
     "output_type": "execute_result"
    }
   ],
   "source": [
    "hr_response('Can I claim medical expenses from a TCM doctor?')"
   ]
  }
 ],
 "metadata": {
  "kernelspec": {
   "display_name": "Python 3",
   "language": "python",
   "name": "python3"
  },
  "language_info": {
   "codemirror_mode": {
    "name": "ipython",
    "version": 3
   },
   "file_extension": ".py",
   "mimetype": "text/x-python",
   "name": "python",
   "nbconvert_exporter": "python",
   "pygments_lexer": "ipython3",
   "version": "3.7.9"
  }
 },
 "nbformat": 4,
 "nbformat_minor": 4
}
